{
 "cells": [
  {
   "cell_type": "code",
   "execution_count": 7,
   "metadata": {},
   "outputs": [],
   "source": [
    "import numpy  as np\n",
    "import matplotlib.pyplot as plt"
   ]
  },
  {
   "cell_type": "code",
   "execution_count": 8,
   "metadata": {},
   "outputs": [],
   "source": [
    "fit = lambda x: -1 * (0.2 + np.power(x[0],2) + np.power(x[1],2) \\\n",
    "        - 0.1 * np.cos(6 * np.pi * x[0]) - 0.1 * np.cos(6 * np.pi * x[1]))\n",
    "\n",
    "normilized_digit = lambda Lo,Hi:Lo + (Hi - Lo) * np.random.random()\n",
    "\n",
    "\n",
    "def fit_eval(population,N,m):\n",
    "    result_fit = []\n",
    "    selection_probability = []\n",
    "\n",
    "    for i in range(N):\n",
    "        x = population[i]\n",
    "        result_fit.append(fit(x))\n",
    "    selection_probability = list(map(lambda x : x / sum(result_fit),result_fit))\n",
    "    average_fit = np.mean(result_fit)\n",
    "    max_fit = max(result_fit)\n",
    "    max_Index = result_fit.index(max_fit)\n",
    "    optimized_soloution = population[max_Index]\n",
    "    \n",
    "    return selection_probability,result_fit,average_fit,max_fit,optimized_soloution"
   ]
  },
  {
   "cell_type": "code",
   "execution_count": 9,
   "metadata": {},
   "outputs": [],
   "source": [
    "def g_roulette_wheel(population,N,selection_probability):\n",
    "  index = [i for i in range(N)]\n",
    "  result = []\n",
    "\n",
    "#   for i in range(N):\n",
    "#         random_choice = np.random.choice(index,p=selection_probability)\n",
    "#         result.append(random_choice)\n",
    "\n",
    "  mating_pool = np.array([population[i] for i in index])\n",
    "  return mating_pool"
   ]
  },
  {
   "cell_type": "code",
   "execution_count": 10,
   "metadata": {},
   "outputs": [],
   "source": [
    "def g_crossover(mating_pool,Pc,N,m,Hi,Lo):\n",
    "  temp = []\n",
    "  parent_number = np.random.permutation(N)\n",
    "\n",
    "  for i in range(0,N,2):\n",
    "      \n",
    "      parent1 = mating_pool[parent_number[i]]\n",
    "      parent2 = mating_pool[parent_number[i+1]]\n",
    "      random_number = np.random.random() \n",
    "      if random_number < Pc:\n",
    "        a = np.random.uniform(0,m)\n",
    "        offspring1 = a*parent1 + (1-a)*parent2\n",
    "        offspring2 = a*parent2 + (1-a)*parent1\n",
    "        temp.append(offspring1)\n",
    "        temp.append(offspring2)\n",
    "      else:\n",
    "          temp.append(parent1)\n",
    "          temp.append(parent2)\n",
    "\n",
    "  for i in range(N):\n",
    "        for j in range(m):\n",
    "            if temp[i][j] >= Hi[j] or temp[i][j]<=Lo[j]:\n",
    "                temp[i][j] = normilized_digit(Lo[j],Hi[j])\n",
    "                          \n",
    "  new_population = np.array(temp)\n",
    "  return new_population"
   ]
  },
  {
   "cell_type": "code",
   "execution_count": 11,
   "metadata": {},
   "outputs": [],
   "source": [
    "def g_mutaion(new_population,Pm,N,m,scale,Hi,Lo):\n",
    "    dynamic_range = np.subtract(Hi,Lo)\n",
    "    sigma = np.multiply(dynamic_range,scale)\n",
    "    delta = np.zeros((N,m))\n",
    "\n",
    "    for i in range(N):\n",
    "        for j in range(m):\n",
    "            delta[i][j] = np.multiply(sigma[j] , np.random.randn())\n",
    "    \n",
    "    mask = np.random.randn(N,m) <= Pm\n",
    "\n",
    "    population = np.add(new_population , np.multiply(mask , delta))\n",
    "\n",
    "    for i in range(N):\n",
    "        for j in range(m):\n",
    "            if population[i][j] >= Hi[j] or population[i][j]<=Lo[j]:\n",
    "                population[i][j] = normilized_digit(Lo[j],Hi[j])\n",
    "                \n",
    "    return population"
   ]
  },
  {
   "cell_type": "code",
   "execution_count": 14,
   "metadata": {},
   "outputs": [
    {
     "name": "stdout",
     "output_type": "stream",
     "text": [
      "-0.0009179500624735826\n"
     ]
    }
   ],
   "source": [
    "if __name__ == \"__main__\":\n",
    "  N = 50\n",
    "  Pc = 0.6\n",
    "  Pm = 0.6\n",
    "  scale = 0.1\n",
    "  m = 2\n",
    "  Lo = [-1,-1]\n",
    "  Hi = [1,1]\n",
    "  best_so_far = []\n",
    "  average_fitness = []\n",
    "  population = [[normilized_digit(Lo[0],Hi[0]),normilized_digit(Lo[1],Hi[1])] for i in range(N)]\n",
    "  \n",
    "  for i in range(100):\n",
    "        selection_probability,result_fit,average_fit,max_fit,optimized_soloution = fit_eval(population, N,m)\n",
    "        best_so_far.append(max_fit)\n",
    "        final_soloution = optimized_soloution\n",
    "        \n",
    "        if max_fit > best_so_far[i-1]:\n",
    "            final_soloution = optimized_soloution\n",
    "        else:\n",
    "          best_so_far[i] = best_so_far[i-1]\n",
    "\n",
    "        \n",
    "        average_fitness.append(average_fit)\n",
    "        mating_pool = g_roulette_wheel(population, N, selection_probability)\n",
    "        new_population = g_crossover(mating_pool,Pc,N,m,Hi,Lo)\n",
    "        population = g_mutaion(new_population,Pm,N,m,scale,Hi,Lo)\n",
    "\n",
    "  best = sorted(best_so_far , reverse=True)[0]\n",
    "  print(best)"
   ]
  },
  {
   "cell_type": "code",
   "execution_count": null,
   "metadata": {},
   "outputs": [],
   "source": [
    "answer = [\n",
    "    {\n",
    "        \"pm\" : 0.2,\n",
    "        \"pc\" : 0.2,\n",
    "        \"best_roulette_wheel\": -0.0023815493240441216,\n",
    "        \"best_random_choice\": -0.0021384862671485066\n",
    "    },\n",
    "    \n",
    "    {\n",
    "        \"pm\" : 0.4,\n",
    "        \"pc\" : 0.4,\n",
    "        \"best_roulette_wheel\" : -0.004635868246687505,\n",
    "        \"best_random_choice\": -0.0009179500624735826\n",
    "    },\n",
    "\n",
    "    {\n",
    "        \"pm\" : 0.6,\n",
    "        \"pc\" : 0.6,\n",
    "        \"best_roulette_wheel\" : -0.042453447804191746,\n",
    "        \"best_random_choice\": \n",
    "    }\n",
    "]"
   ]
  }
 ],
 "metadata": {
  "kernelspec": {
   "display_name": "Python 3",
   "language": "python",
   "name": "python3"
  },
  "language_info": {
   "codemirror_mode": {
    "name": "ipython",
    "version": 3
   },
   "file_extension": ".py",
   "mimetype": "text/x-python",
   "name": "python",
   "nbconvert_exporter": "python",
   "pygments_lexer": "ipython3",
   "version": "3.10.10"
  },
  "orig_nbformat": 4,
  "vscode": {
   "interpreter": {
    "hash": "be32ec4d421ecfaf9d89f064f3291fa06a0c84bdac54d2772db5450a4cdab517"
   }
  }
 },
 "nbformat": 4,
 "nbformat_minor": 2
}
